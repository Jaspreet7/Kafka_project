{
 "cells": [
  {
   "cell_type": "code",
   "execution_count": 5,
   "id": "27eeec56",
   "metadata": {},
   "outputs": [
    {
     "name": "stdout",
     "output_type": "stream",
     "text": [
      "Requirement already satisfied: kafka-python in c:\\users\\preet\\anaconda3\\lib\\site-packages (2.0.2)\n",
      "Note: you may need to restart the kernel to use updated packages.\n"
     ]
    }
   ],
   "source": [
    "#intall kafka\n",
    "pip install kafka-python"
   ]
  },
  {
   "cell_type": "code",
   "execution_count": 3,
   "id": "bf6fedde",
   "metadata": {},
   "outputs": [
    {
     "name": "stdout",
     "output_type": "stream",
     "text": [
      "Requirement already satisfied: polygon-api-client in c:\\users\\preet\\anaconda3\\lib\\site-packages (1.13.4)\n",
      "Requirement already satisfied: certifi<2024.0.0,>=2022.5.18 in c:\\users\\preet\\anaconda3\\lib\\site-packages (from polygon-api-client) (2022.9.14)\n",
      "Requirement already satisfied: websockets<13.0,>=10.3 in c:\\users\\preet\\anaconda3\\lib\\site-packages (from polygon-api-client) (12.0)\n",
      "Requirement already satisfied: urllib3<2.0.0,>=1.26.9 in c:\\users\\preet\\anaconda3\\lib\\site-packages (from polygon-api-client) (1.26.11)\n",
      "Note: you may need to restart the kernel to use updated packages.\n"
     ]
    }
   ],
   "source": [
    "#install package to connect with source\n",
    "pip install -U polygon-api-client"
   ]
  },
  {
   "cell_type": "code",
   "execution_count": 1,
   "id": "cbce9f47",
   "metadata": {},
   "outputs": [],
   "source": [
    "#import libraries\n",
    "import pandas as pd\n",
    "from kafka import KafkaProducer\n",
    "from time import sleep\n",
    "from json import dumps\n",
    "import json\n",
    "import datetime\n",
    "from polygon import RESTClient\n",
    "from datetime import timedelta, date"
   ]
  },
  {
   "cell_type": "code",
   "execution_count": 2,
   "id": "fbebcc9b",
   "metadata": {
    "collapsed": true
   },
   "outputs": [
    {
     "ename": "NoBrokersAvailable",
     "evalue": "NoBrokersAvailable",
     "output_type": "error",
     "traceback": [
      "\u001b[1;31m---------------------------------------------------------------------------\u001b[0m",
      "\u001b[1;31mNoBrokersAvailable\u001b[0m                        Traceback (most recent call last)",
      "\u001b[1;32m~\\AppData\\Local\\Temp\\ipykernel_10176\\340144998.py\u001b[0m in \u001b[0;36m<module>\u001b[1;34m\u001b[0m\n\u001b[1;32m----> 1\u001b[1;33m producer = KafkaProducer(bootstrap_servers=['3.144.78.161:9092'],\n\u001b[0m\u001b[0;32m      2\u001b[0m                          \u001b[0mvalue_serializer\u001b[0m\u001b[1;33m=\u001b[0m\u001b[1;32mlambda\u001b[0m \u001b[0mx\u001b[0m\u001b[1;33m:\u001b[0m\u001b[1;33m\u001b[0m\u001b[1;33m\u001b[0m\u001b[0m\n\u001b[0;32m      3\u001b[0m                          dumps(x).encode('utf-8'))\n",
      "\u001b[1;32m~\\anaconda3\\lib\\site-packages\\kafka\\producer\\kafka.py\u001b[0m in \u001b[0;36m__init__\u001b[1;34m(self, **configs)\u001b[0m\n\u001b[0;32m    379\u001b[0m         \u001b[0mself\u001b[0m\u001b[1;33m.\u001b[0m\u001b[0m_metrics\u001b[0m \u001b[1;33m=\u001b[0m \u001b[0mMetrics\u001b[0m\u001b[1;33m(\u001b[0m\u001b[0mmetric_config\u001b[0m\u001b[1;33m,\u001b[0m \u001b[0mreporters\u001b[0m\u001b[1;33m)\u001b[0m\u001b[1;33m\u001b[0m\u001b[1;33m\u001b[0m\u001b[0m\n\u001b[0;32m    380\u001b[0m \u001b[1;33m\u001b[0m\u001b[0m\n\u001b[1;32m--> 381\u001b[1;33m         client = KafkaClient(metrics=self._metrics, metric_group_prefix='producer',\n\u001b[0m\u001b[0;32m    382\u001b[0m                              \u001b[0mwakeup_timeout_ms\u001b[0m\u001b[1;33m=\u001b[0m\u001b[0mself\u001b[0m\u001b[1;33m.\u001b[0m\u001b[0mconfig\u001b[0m\u001b[1;33m[\u001b[0m\u001b[1;34m'max_block_ms'\u001b[0m\u001b[1;33m]\u001b[0m\u001b[1;33m,\u001b[0m\u001b[1;33m\u001b[0m\u001b[1;33m\u001b[0m\u001b[0m\n\u001b[0;32m    383\u001b[0m                              **self.config)\n",
      "\u001b[1;32m~\\anaconda3\\lib\\site-packages\\kafka\\client_async.py\u001b[0m in \u001b[0;36m__init__\u001b[1;34m(self, **configs)\u001b[0m\n\u001b[0;32m    242\u001b[0m         \u001b[1;32mif\u001b[0m \u001b[0mself\u001b[0m\u001b[1;33m.\u001b[0m\u001b[0mconfig\u001b[0m\u001b[1;33m[\u001b[0m\u001b[1;34m'api_version'\u001b[0m\u001b[1;33m]\u001b[0m \u001b[1;32mis\u001b[0m \u001b[1;32mNone\u001b[0m\u001b[1;33m:\u001b[0m\u001b[1;33m\u001b[0m\u001b[1;33m\u001b[0m\u001b[0m\n\u001b[0;32m    243\u001b[0m             \u001b[0mcheck_timeout\u001b[0m \u001b[1;33m=\u001b[0m \u001b[0mself\u001b[0m\u001b[1;33m.\u001b[0m\u001b[0mconfig\u001b[0m\u001b[1;33m[\u001b[0m\u001b[1;34m'api_version_auto_timeout_ms'\u001b[0m\u001b[1;33m]\u001b[0m \u001b[1;33m/\u001b[0m \u001b[1;36m1000\u001b[0m\u001b[1;33m\u001b[0m\u001b[1;33m\u001b[0m\u001b[0m\n\u001b[1;32m--> 244\u001b[1;33m             \u001b[0mself\u001b[0m\u001b[1;33m.\u001b[0m\u001b[0mconfig\u001b[0m\u001b[1;33m[\u001b[0m\u001b[1;34m'api_version'\u001b[0m\u001b[1;33m]\u001b[0m \u001b[1;33m=\u001b[0m \u001b[0mself\u001b[0m\u001b[1;33m.\u001b[0m\u001b[0mcheck_version\u001b[0m\u001b[1;33m(\u001b[0m\u001b[0mtimeout\u001b[0m\u001b[1;33m=\u001b[0m\u001b[0mcheck_timeout\u001b[0m\u001b[1;33m)\u001b[0m\u001b[1;33m\u001b[0m\u001b[1;33m\u001b[0m\u001b[0m\n\u001b[0m\u001b[0;32m    245\u001b[0m \u001b[1;33m\u001b[0m\u001b[0m\n\u001b[0;32m    246\u001b[0m     \u001b[1;32mdef\u001b[0m \u001b[0m_can_bootstrap\u001b[0m\u001b[1;33m(\u001b[0m\u001b[0mself\u001b[0m\u001b[1;33m)\u001b[0m\u001b[1;33m:\u001b[0m\u001b[1;33m\u001b[0m\u001b[1;33m\u001b[0m\u001b[0m\n",
      "\u001b[1;32m~\\anaconda3\\lib\\site-packages\\kafka\\client_async.py\u001b[0m in \u001b[0;36mcheck_version\u001b[1;34m(self, node_id, timeout, strict)\u001b[0m\n\u001b[0;32m    925\u001b[0m         \u001b[1;32melse\u001b[0m\u001b[1;33m:\u001b[0m\u001b[1;33m\u001b[0m\u001b[1;33m\u001b[0m\u001b[0m\n\u001b[0;32m    926\u001b[0m             \u001b[0mself\u001b[0m\u001b[1;33m.\u001b[0m\u001b[0m_lock\u001b[0m\u001b[1;33m.\u001b[0m\u001b[0mrelease\u001b[0m\u001b[1;33m(\u001b[0m\u001b[1;33m)\u001b[0m\u001b[1;33m\u001b[0m\u001b[1;33m\u001b[0m\u001b[0m\n\u001b[1;32m--> 927\u001b[1;33m             \u001b[1;32mraise\u001b[0m \u001b[0mErrors\u001b[0m\u001b[1;33m.\u001b[0m\u001b[0mNoBrokersAvailable\u001b[0m\u001b[1;33m(\u001b[0m\u001b[1;33m)\u001b[0m\u001b[1;33m\u001b[0m\u001b[1;33m\u001b[0m\u001b[0m\n\u001b[0m\u001b[0;32m    928\u001b[0m \u001b[1;33m\u001b[0m\u001b[0m\n\u001b[0;32m    929\u001b[0m     \u001b[1;32mdef\u001b[0m \u001b[0mwakeup\u001b[0m\u001b[1;33m(\u001b[0m\u001b[0mself\u001b[0m\u001b[1;33m)\u001b[0m\u001b[1;33m:\u001b[0m\u001b[1;33m\u001b[0m\u001b[1;33m\u001b[0m\u001b[0m\n",
      "\u001b[1;31mNoBrokersAvailable\u001b[0m: NoBrokersAvailable"
     ]
    }
   ],
   "source": [
    "#connecting producer with server\n",
    "producer = KafkaProducer(bootstrap_servers=['3.144.78.161:977'],\n",
    "                         value_serializer=lambda x: \n",
    "                         dumps(x).encode('utf-8'))"
   ]
  },
  {
   "cell_type": "code",
   "execution_count": 11,
   "id": "c96f9bc2",
   "metadata": {},
   "outputs": [],
   "source": [
    "#Conneting Producer to soruce to fetch stock data of specific company for particular time period \n",
    "client = RESTClient(api_key=\"API_Key\")\n",
    "\n",
    "ticker = \"AAPL\"\n",
    "start_date = date(2023, 9, 1)\n",
    "end_date = start_date+ timedelta(days=100)\n",
    "\n",
    "# List Aggregates (Bars)\n",
    "data = []\n",
    "for a in client.list_aggs(ticker=ticker, multiplier=1, timespan=\"day\", from_=start_date, to=end_date, limit=50000):\n",
    "    data.append(a)"
   ]
  },
  {
   "cell_type": "code",
   "execution_count": 8,
   "id": "aab94a2a",
   "metadata": {},
   "outputs": [],
   "source": [
    "#Converting data into dataframe\n",
    "df=pd.DataFrame(data)"
   ]
  },
  {
   "cell_type": "code",
   "execution_count": 9,
   "id": "aa03d9cb",
   "metadata": {},
   "outputs": [
    {
     "data": {
      "text/html": [
       "<div>\n",
       "<style scoped>\n",
       "    .dataframe tbody tr th:only-of-type {\n",
       "        vertical-align: middle;\n",
       "    }\n",
       "\n",
       "    .dataframe tbody tr th {\n",
       "        vertical-align: top;\n",
       "    }\n",
       "\n",
       "    .dataframe thead th {\n",
       "        text-align: right;\n",
       "    }\n",
       "</style>\n",
       "<table border=\"1\" class=\"dataframe\">\n",
       "  <thead>\n",
       "    <tr style=\"text-align: right;\">\n",
       "      <th></th>\n",
       "      <th>open</th>\n",
       "      <th>high</th>\n",
       "      <th>low</th>\n",
       "      <th>close</th>\n",
       "      <th>volume</th>\n",
       "      <th>vwap</th>\n",
       "      <th>timestamp</th>\n",
       "      <th>transactions</th>\n",
       "      <th>otc</th>\n",
       "    </tr>\n",
       "  </thead>\n",
       "  <tbody>\n",
       "    <tr>\n",
       "      <th>0</th>\n",
       "      <td>169.280</td>\n",
       "      <td>170.45</td>\n",
       "      <td>168.64</td>\n",
       "      <td>169.59</td>\n",
       "      <td>52424936.0</td>\n",
       "      <td>169.6586</td>\n",
       "      <td>1682913600000</td>\n",
       "      <td>540745</td>\n",
       "      <td>None</td>\n",
       "    </tr>\n",
       "    <tr>\n",
       "      <th>1</th>\n",
       "      <td>170.090</td>\n",
       "      <td>170.35</td>\n",
       "      <td>167.54</td>\n",
       "      <td>168.54</td>\n",
       "      <td>48425696.0</td>\n",
       "      <td>168.6978</td>\n",
       "      <td>1683000000000</td>\n",
       "      <td>509755</td>\n",
       "      <td>None</td>\n",
       "    </tr>\n",
       "    <tr>\n",
       "      <th>2</th>\n",
       "      <td>169.500</td>\n",
       "      <td>170.92</td>\n",
       "      <td>167.16</td>\n",
       "      <td>167.45</td>\n",
       "      <td>65126998.0</td>\n",
       "      <td>169.0130</td>\n",
       "      <td>1683086400000</td>\n",
       "      <td>610052</td>\n",
       "      <td>None</td>\n",
       "    </tr>\n",
       "    <tr>\n",
       "      <th>3</th>\n",
       "      <td>164.890</td>\n",
       "      <td>167.04</td>\n",
       "      <td>164.31</td>\n",
       "      <td>165.79</td>\n",
       "      <td>81225673.0</td>\n",
       "      <td>166.0983</td>\n",
       "      <td>1683172800000</td>\n",
       "      <td>832121</td>\n",
       "      <td>None</td>\n",
       "    </tr>\n",
       "    <tr>\n",
       "      <th>4</th>\n",
       "      <td>170.975</td>\n",
       "      <td>174.30</td>\n",
       "      <td>170.76</td>\n",
       "      <td>173.57</td>\n",
       "      <td>113402971.0</td>\n",
       "      <td>173.3116</td>\n",
       "      <td>1683259200000</td>\n",
       "      <td>915977</td>\n",
       "      <td>None</td>\n",
       "    </tr>\n",
       "    <tr>\n",
       "      <th>...</th>\n",
       "      <td>...</td>\n",
       "      <td>...</td>\n",
       "      <td>...</td>\n",
       "      <td>...</td>\n",
       "      <td>...</td>\n",
       "      <td>...</td>\n",
       "      <td>...</td>\n",
       "      <td>...</td>\n",
       "      <td>...</td>\n",
       "    </tr>\n",
       "    <tr>\n",
       "      <th>65</th>\n",
       "      <td>191.570</td>\n",
       "      <td>192.37</td>\n",
       "      <td>190.69</td>\n",
       "      <td>191.17</td>\n",
       "      <td>62243282.0</td>\n",
       "      <td>191.1312</td>\n",
       "      <td>1691035200000</td>\n",
       "      <td>754703</td>\n",
       "      <td>None</td>\n",
       "    </tr>\n",
       "    <tr>\n",
       "      <th>66</th>\n",
       "      <td>185.520</td>\n",
       "      <td>187.38</td>\n",
       "      <td>181.92</td>\n",
       "      <td>181.99</td>\n",
       "      <td>115956841.0</td>\n",
       "      <td>184.2790</td>\n",
       "      <td>1691121600000</td>\n",
       "      <td>1336765</td>\n",
       "      <td>None</td>\n",
       "    </tr>\n",
       "    <tr>\n",
       "      <th>67</th>\n",
       "      <td>182.130</td>\n",
       "      <td>183.13</td>\n",
       "      <td>177.35</td>\n",
       "      <td>178.85</td>\n",
       "      <td>97105069.0</td>\n",
       "      <td>179.0119</td>\n",
       "      <td>1691380800000</td>\n",
       "      <td>1159281</td>\n",
       "      <td>None</td>\n",
       "    </tr>\n",
       "    <tr>\n",
       "      <th>68</th>\n",
       "      <td>179.690</td>\n",
       "      <td>180.27</td>\n",
       "      <td>177.58</td>\n",
       "      <td>179.80</td>\n",
       "      <td>67769003.0</td>\n",
       "      <td>178.9854</td>\n",
       "      <td>1691467200000</td>\n",
       "      <td>709019</td>\n",
       "      <td>None</td>\n",
       "    </tr>\n",
       "    <tr>\n",
       "      <th>69</th>\n",
       "      <td>180.870</td>\n",
       "      <td>180.93</td>\n",
       "      <td>177.01</td>\n",
       "      <td>178.19</td>\n",
       "      <td>60303492.0</td>\n",
       "      <td>178.4887</td>\n",
       "      <td>1691553600000</td>\n",
       "      <td>666112</td>\n",
       "      <td>None</td>\n",
       "    </tr>\n",
       "  </tbody>\n",
       "</table>\n",
       "<p>70 rows × 9 columns</p>\n",
       "</div>"
      ],
      "text/plain": [
       "       open    high     low   close       volume      vwap      timestamp  \\\n",
       "0   169.280  170.45  168.64  169.59   52424936.0  169.6586  1682913600000   \n",
       "1   170.090  170.35  167.54  168.54   48425696.0  168.6978  1683000000000   \n",
       "2   169.500  170.92  167.16  167.45   65126998.0  169.0130  1683086400000   \n",
       "3   164.890  167.04  164.31  165.79   81225673.0  166.0983  1683172800000   \n",
       "4   170.975  174.30  170.76  173.57  113402971.0  173.3116  1683259200000   \n",
       "..      ...     ...     ...     ...          ...       ...            ...   \n",
       "65  191.570  192.37  190.69  191.17   62243282.0  191.1312  1691035200000   \n",
       "66  185.520  187.38  181.92  181.99  115956841.0  184.2790  1691121600000   \n",
       "67  182.130  183.13  177.35  178.85   97105069.0  179.0119  1691380800000   \n",
       "68  179.690  180.27  177.58  179.80   67769003.0  178.9854  1691467200000   \n",
       "69  180.870  180.93  177.01  178.19   60303492.0  178.4887  1691553600000   \n",
       "\n",
       "    transactions   otc  \n",
       "0         540745  None  \n",
       "1         509755  None  \n",
       "2         610052  None  \n",
       "3         832121  None  \n",
       "4         915977  None  \n",
       "..           ...   ...  \n",
       "65        754703  None  \n",
       "66       1336765  None  \n",
       "67       1159281  None  \n",
       "68        709019  None  \n",
       "69        666112  None  \n",
       "\n",
       "[70 rows x 9 columns]"
      ]
     },
     "execution_count": 9,
     "metadata": {},
     "output_type": "execute_result"
    }
   ],
   "source": [
    "df"
   ]
  },
  {
   "cell_type": "code",
   "execution_count": 10,
   "id": "ffe9abb6",
   "metadata": {},
   "outputs": [],
   "source": [
    "for i in df.iterrows():\n",
    "    dict_st=dict(i[1])\n",
    "    producer.send('demotest', value=dict_st)\n",
    "    sleep(1)\n",
    "    #new_df.to_dict(orient=\"records\")[0]\n",
    "    #dict_stock = df.sample(1).to_dict(orient=\"records\")[0]\n",
    "    #producer.send('demotest', value=dict_st)\n",
    "    #sleep(1)"
   ]
  }
 ],
 "metadata": {
  "kernelspec": {
   "display_name": "Python 3 (ipykernel)",
   "language": "python",
   "name": "python3"
  },
  "language_info": {
   "codemirror_mode": {
    "name": "ipython",
    "version": 3
   },
   "file_extension": ".py",
   "mimetype": "text/x-python",
   "name": "python",
   "nbconvert_exporter": "python",
   "pygments_lexer": "ipython3",
   "version": "3.9.13"
  }
 },
 "nbformat": 4,
 "nbformat_minor": 5
}
